{
 "metadata": {
  "language_info": {
   "codemirror_mode": {
    "name": "ipython",
    "version": 3
   },
   "file_extension": ".py",
   "mimetype": "text/x-python",
   "name": "python",
   "nbconvert_exporter": "python",
   "pygments_lexer": "ipython3",
   "version": "3.7.9"
  },
  "orig_nbformat": 4,
  "kernelspec": {
   "name": "python3",
   "display_name": "Python 3.7.9 64-bit ('compchem': conda)"
  },
  "interpreter": {
   "hash": "7eb5ae97173851c9c43c9dc4b9280fe96a3488a82d8170afdaadfc87386f3943"
  }
 },
 "nbformat": 4,
 "nbformat_minor": 2,
 "cells": [
  {
   "source": [
    "## Polymer Selection\n",
    "We begin by importing the required libraries. In this case, we only need to include pandas for access to our dataframes and the functions found in this project. "
   ],
   "cell_type": "markdown",
   "metadata": {}
  },
  {
   "cell_type": "code",
   "execution_count": 1,
   "metadata": {},
   "outputs": [],
   "source": [
    "import pandas as pd \n",
    "from StatsDevelopment.StatFunctions import StatFunctions\n",
    "\n",
    "sf = StatFunctions()"
   ]
  },
  {
   "source": [
    "We now read in the datafile which must be a .csv. The exact file pathway must be used in order to read in the file with the exact pathway (r'exact file pathway') as the input. In order for the algorithm to print correctly, all of the blank spaces in the dataframe must be filled with 0s using the fillna(0) method. The .head() method will show only the first 5 rows of the dataframe, but the full sheet can be viewed in the variable viewer in the top which appears as a box with a (x) in it (these instructions only work when viewing the notebook on VSCODE)."
   ],
   "cell_type": "markdown",
   "metadata": {}
  },
  {
   "cell_type": "code",
   "execution_count": 2,
   "metadata": {},
   "outputs": [
    {
     "output_type": "execute_result",
     "data": {
      "text/plain": [
       "       SKU   Ash  Melt Point   Tg  Density  Moisture Content  \\\n",
       "0   Target   0.5         230  100     1.05               0.5   \n",
       "1  Resin 1   0.9         180   90     1.20               0.0   \n",
       "2  Resin 2   3.0         245   40     0.96               1.0   \n",
       "3  Resin 3  21.0         260  -10     0.96               0.9   \n",
       "4  Resin 4   0.2         195  -50     0.90               0.8   \n",
       "\n",
       "   Tensile Strength  Yield Strength  Elongation  Flexural Modulus  \\\n",
       "0                26            30.0        80.0              2000   \n",
       "1                30            23.0        10.0              1600   \n",
       "2                35            30.0       300.0               890   \n",
       "3                12            26.0        90.0              4000   \n",
       "4                13            10.0        30.0               860   \n",
       "\n",
       "   Tensile Modulus  IZOD Impact  IZOD Energy  Hardness A  Hardness D  \\\n",
       "0             1800          2.5          3.0           0           0   \n",
       "1              850          3.6          4.0           0           0   \n",
       "2             4000          1.2          2.4           0           0   \n",
       "3             7500          1.0          1.0           0           0   \n",
       "4             1200          0.0          6.0           0           0   \n",
       "\n",
       "   Hardness R  \n",
       "0          70  \n",
       "1          50  \n",
       "2          30  \n",
       "3         120  \n",
       "4         130  "
      ],
      "text/html": "<div>\n<style scoped>\n    .dataframe tbody tr th:only-of-type {\n        vertical-align: middle;\n    }\n\n    .dataframe tbody tr th {\n        vertical-align: top;\n    }\n\n    .dataframe thead th {\n        text-align: right;\n    }\n</style>\n<table border=\"1\" class=\"dataframe\">\n  <thead>\n    <tr style=\"text-align: right;\">\n      <th></th>\n      <th>SKU</th>\n      <th>Ash</th>\n      <th>Melt Point</th>\n      <th>Tg</th>\n      <th>Density</th>\n      <th>Moisture Content</th>\n      <th>Tensile Strength</th>\n      <th>Yield Strength</th>\n      <th>Elongation</th>\n      <th>Flexural Modulus</th>\n      <th>Tensile Modulus</th>\n      <th>IZOD Impact</th>\n      <th>IZOD Energy</th>\n      <th>Hardness A</th>\n      <th>Hardness D</th>\n      <th>Hardness R</th>\n    </tr>\n  </thead>\n  <tbody>\n    <tr>\n      <th>0</th>\n      <td>Target</td>\n      <td>0.5</td>\n      <td>230</td>\n      <td>100</td>\n      <td>1.05</td>\n      <td>0.5</td>\n      <td>26</td>\n      <td>30.0</td>\n      <td>80.0</td>\n      <td>2000</td>\n      <td>1800</td>\n      <td>2.5</td>\n      <td>3.0</td>\n      <td>0</td>\n      <td>0</td>\n      <td>70</td>\n    </tr>\n    <tr>\n      <th>1</th>\n      <td>Resin 1</td>\n      <td>0.9</td>\n      <td>180</td>\n      <td>90</td>\n      <td>1.20</td>\n      <td>0.0</td>\n      <td>30</td>\n      <td>23.0</td>\n      <td>10.0</td>\n      <td>1600</td>\n      <td>850</td>\n      <td>3.6</td>\n      <td>4.0</td>\n      <td>0</td>\n      <td>0</td>\n      <td>50</td>\n    </tr>\n    <tr>\n      <th>2</th>\n      <td>Resin 2</td>\n      <td>3.0</td>\n      <td>245</td>\n      <td>40</td>\n      <td>0.96</td>\n      <td>1.0</td>\n      <td>35</td>\n      <td>30.0</td>\n      <td>300.0</td>\n      <td>890</td>\n      <td>4000</td>\n      <td>1.2</td>\n      <td>2.4</td>\n      <td>0</td>\n      <td>0</td>\n      <td>30</td>\n    </tr>\n    <tr>\n      <th>3</th>\n      <td>Resin 3</td>\n      <td>21.0</td>\n      <td>260</td>\n      <td>-10</td>\n      <td>0.96</td>\n      <td>0.9</td>\n      <td>12</td>\n      <td>26.0</td>\n      <td>90.0</td>\n      <td>4000</td>\n      <td>7500</td>\n      <td>1.0</td>\n      <td>1.0</td>\n      <td>0</td>\n      <td>0</td>\n      <td>120</td>\n    </tr>\n    <tr>\n      <th>4</th>\n      <td>Resin 4</td>\n      <td>0.2</td>\n      <td>195</td>\n      <td>-50</td>\n      <td>0.90</td>\n      <td>0.8</td>\n      <td>13</td>\n      <td>10.0</td>\n      <td>30.0</td>\n      <td>860</td>\n      <td>1200</td>\n      <td>0.0</td>\n      <td>6.0</td>\n      <td>0</td>\n      <td>0</td>\n      <td>130</td>\n    </tr>\n  </tbody>\n</table>\n</div>"
     },
     "metadata": {},
     "execution_count": 2
    }
   ],
   "source": [
    "df = pd.read_csv(r'/Users/Michael/Desktop/GitHub/PolymerSelection/Data/PolymerData.csv')\n",
    "df = df.fillna(0)\n",
    "df.head()"
   ]
  },
  {
   "source": [
    "The analysis can then be performed with one command, and we have two options for how to analyze the data. If no column property is given, then the command will analyze the sum of all properties. If a property is given, then the command will rank the polymers based on their proxiity to the target property. The command is filled as: sf.PolymerSelection(Enter name of Dataframe, number of results desired as an integer, optional property parameter surrounded by '')."
   ],
   "cell_type": "markdown",
   "metadata": {}
  },
  {
   "cell_type": "code",
   "execution_count": 3,
   "metadata": {},
   "outputs": [
    {
     "output_type": "execute_result",
     "data": {
      "text/plain": [
       "       SKU  Test Score\n",
       "1  Resin 1    0.140912\n",
       "5  Resin 5    0.168608\n",
       "2  Resin 2    0.218430\n",
       "6  Resin 6    0.235662\n",
       "9  Resin 9    0.253410"
      ],
      "text/html": "<div>\n<style scoped>\n    .dataframe tbody tr th:only-of-type {\n        vertical-align: middle;\n    }\n\n    .dataframe tbody tr th {\n        vertical-align: top;\n    }\n\n    .dataframe thead th {\n        text-align: right;\n    }\n</style>\n<table border=\"1\" class=\"dataframe\">\n  <thead>\n    <tr style=\"text-align: right;\">\n      <th></th>\n      <th>SKU</th>\n      <th>Test Score</th>\n    </tr>\n  </thead>\n  <tbody>\n    <tr>\n      <th>1</th>\n      <td>Resin 1</td>\n      <td>0.140912</td>\n    </tr>\n    <tr>\n      <th>5</th>\n      <td>Resin 5</td>\n      <td>0.168608</td>\n    </tr>\n    <tr>\n      <th>2</th>\n      <td>Resin 2</td>\n      <td>0.218430</td>\n    </tr>\n    <tr>\n      <th>6</th>\n      <td>Resin 6</td>\n      <td>0.235662</td>\n    </tr>\n    <tr>\n      <th>9</th>\n      <td>Resin 9</td>\n      <td>0.253410</td>\n    </tr>\n  </tbody>\n</table>\n</div>"
     },
     "metadata": {},
     "execution_count": 3
    }
   ],
   "source": [
    "Test = sf.PolymerSelection(df, 5)\n",
    "Test"
   ]
  }
 ]
}