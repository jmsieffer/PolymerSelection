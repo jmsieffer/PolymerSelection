{
 "metadata": {
  "language_info": {
   "codemirror_mode": {
    "name": "ipython",
    "version": 3
   },
   "file_extension": ".py",
   "mimetype": "text/x-python",
   "name": "python",
   "nbconvert_exporter": "python",
   "pygments_lexer": "ipython3",
   "version": "3.7.9"
  },
  "orig_nbformat": 2,
  "kernelspec": {
   "name": "python3",
   "display_name": "Python 3.7.9 64-bit ('compchem': conda)"
  },
  "metadata": {
   "interpreter": {
    "hash": "7eb5ae97173851c9c43c9dc4b9280fe96a3488a82d8170afdaadfc87386f3943"
   }
  },
  "interpreter": {
   "hash": "7eb5ae97173851c9c43c9dc4b9280fe96a3488a82d8170afdaadfc87386f3943"
  }
 },
 "nbformat": 4,
 "nbformat_minor": 2,
 "cells": [
  {
   "cell_type": "code",
   "execution_count": 2,
   "metadata": {},
   "outputs": [],
   "source": [
    "import numpy as np \n",
    "import scipy as sp \n",
    "import pandas as pd\n",
    "from StatsDevelopment.StatFunctions import StatFunctions\n",
    "\n",
    "sf = StatFunctions()"
   ]
  },
  {
   "cell_type": "code",
   "execution_count": 3,
   "metadata": {},
   "outputs": [
    {
     "output_type": "execute_result",
     "data": {
      "text/plain": [
       "         SKU   Ash  Melt Point   Tg  Density  Moisture Content  \\\n",
       "0     Target   0.5         230  100     1.05               0.5   \n",
       "1    Resin 1   0.9         180   90     1.20               0.0   \n",
       "2    Resin 2   3.0         245   40     0.96               1.0   \n",
       "3    Resin 3  21.0         260  -10     0.96               0.9   \n",
       "4    Resin 4   0.2         195  -50     0.90               0.8   \n",
       "5    Resin 5   0.8         200   25     0.85               1.4   \n",
       "6    Resin 6   0.9         220  130     1.30               5.0   \n",
       "7    Resin 7   0.1         300   80     1.11              10.0   \n",
       "8    Resin 8   0.0         225   65     0.98               0.2   \n",
       "9    Resin 9   5.0         234   90     0.40               0.9   \n",
       "10  Resin 10   2.0         290   75     1.30               9.0   \n",
       "\n",
       "    Tensile Strength  Yield Strength  Elongation  Flexural Modulus  \\\n",
       "0                 26            30.0        80.0              2000   \n",
       "1                 30            23.0        10.0              1600   \n",
       "2                 35            30.0       300.0               890   \n",
       "3                 12            26.0        90.0              4000   \n",
       "4                 13            10.0        30.0               860   \n",
       "5                 14            13.0        85.0              2400   \n",
       "6                 17            14.0         7.5              1200   \n",
       "7                 29            20.0        30.0              1400   \n",
       "8                 38            35.0        40.0              7000   \n",
       "9                 23            28.5       150.0              3000   \n",
       "10                10            12.0        92.0               840   \n",
       "\n",
       "    Tensile Modulus  IZOD Impact  IZOD Energy  Hardness A  Hardness D  \\\n",
       "0              1800          2.5          3.0           0           0   \n",
       "1               850          3.6          4.0           0           0   \n",
       "2              4000          1.2          2.4           0           0   \n",
       "3              7500          1.0          1.0           0           0   \n",
       "4              1200          0.0          6.0           0           0   \n",
       "5              1900          1.8          2.0           0           0   \n",
       "6              2000          5.0          6.0           0           0   \n",
       "7              3000          4.0          3.8          80           0   \n",
       "8               900          3.0          1.2          95           0   \n",
       "9              2300          1.6          2.0         100           0   \n",
       "10              400          2.0          2.0           0          70   \n",
       "\n",
       "    Hardness R  \n",
       "0           70  \n",
       "1           50  \n",
       "2           30  \n",
       "3          120  \n",
       "4          130  \n",
       "5           62  \n",
       "6           78  \n",
       "7            0  \n",
       "8            0  \n",
       "9            0  \n",
       "10           0  "
      ],
      "text/html": "<div>\n<style scoped>\n    .dataframe tbody tr th:only-of-type {\n        vertical-align: middle;\n    }\n\n    .dataframe tbody tr th {\n        vertical-align: top;\n    }\n\n    .dataframe thead th {\n        text-align: right;\n    }\n</style>\n<table border=\"1\" class=\"dataframe\">\n  <thead>\n    <tr style=\"text-align: right;\">\n      <th></th>\n      <th>SKU</th>\n      <th>Ash</th>\n      <th>Melt Point</th>\n      <th>Tg</th>\n      <th>Density</th>\n      <th>Moisture Content</th>\n      <th>Tensile Strength</th>\n      <th>Yield Strength</th>\n      <th>Elongation</th>\n      <th>Flexural Modulus</th>\n      <th>Tensile Modulus</th>\n      <th>IZOD Impact</th>\n      <th>IZOD Energy</th>\n      <th>Hardness A</th>\n      <th>Hardness D</th>\n      <th>Hardness R</th>\n    </tr>\n  </thead>\n  <tbody>\n    <tr>\n      <th>0</th>\n      <td>Target</td>\n      <td>0.5</td>\n      <td>230</td>\n      <td>100</td>\n      <td>1.05</td>\n      <td>0.5</td>\n      <td>26</td>\n      <td>30.0</td>\n      <td>80.0</td>\n      <td>2000</td>\n      <td>1800</td>\n      <td>2.5</td>\n      <td>3.0</td>\n      <td>0</td>\n      <td>0</td>\n      <td>70</td>\n    </tr>\n    <tr>\n      <th>1</th>\n      <td>Resin 1</td>\n      <td>0.9</td>\n      <td>180</td>\n      <td>90</td>\n      <td>1.20</td>\n      <td>0.0</td>\n      <td>30</td>\n      <td>23.0</td>\n      <td>10.0</td>\n      <td>1600</td>\n      <td>850</td>\n      <td>3.6</td>\n      <td>4.0</td>\n      <td>0</td>\n      <td>0</td>\n      <td>50</td>\n    </tr>\n    <tr>\n      <th>2</th>\n      <td>Resin 2</td>\n      <td>3.0</td>\n      <td>245</td>\n      <td>40</td>\n      <td>0.96</td>\n      <td>1.0</td>\n      <td>35</td>\n      <td>30.0</td>\n      <td>300.0</td>\n      <td>890</td>\n      <td>4000</td>\n      <td>1.2</td>\n      <td>2.4</td>\n      <td>0</td>\n      <td>0</td>\n      <td>30</td>\n    </tr>\n    <tr>\n      <th>3</th>\n      <td>Resin 3</td>\n      <td>21.0</td>\n      <td>260</td>\n      <td>-10</td>\n      <td>0.96</td>\n      <td>0.9</td>\n      <td>12</td>\n      <td>26.0</td>\n      <td>90.0</td>\n      <td>4000</td>\n      <td>7500</td>\n      <td>1.0</td>\n      <td>1.0</td>\n      <td>0</td>\n      <td>0</td>\n      <td>120</td>\n    </tr>\n    <tr>\n      <th>4</th>\n      <td>Resin 4</td>\n      <td>0.2</td>\n      <td>195</td>\n      <td>-50</td>\n      <td>0.90</td>\n      <td>0.8</td>\n      <td>13</td>\n      <td>10.0</td>\n      <td>30.0</td>\n      <td>860</td>\n      <td>1200</td>\n      <td>0.0</td>\n      <td>6.0</td>\n      <td>0</td>\n      <td>0</td>\n      <td>130</td>\n    </tr>\n    <tr>\n      <th>5</th>\n      <td>Resin 5</td>\n      <td>0.8</td>\n      <td>200</td>\n      <td>25</td>\n      <td>0.85</td>\n      <td>1.4</td>\n      <td>14</td>\n      <td>13.0</td>\n      <td>85.0</td>\n      <td>2400</td>\n      <td>1900</td>\n      <td>1.8</td>\n      <td>2.0</td>\n      <td>0</td>\n      <td>0</td>\n      <td>62</td>\n    </tr>\n    <tr>\n      <th>6</th>\n      <td>Resin 6</td>\n      <td>0.9</td>\n      <td>220</td>\n      <td>130</td>\n      <td>1.30</td>\n      <td>5.0</td>\n      <td>17</td>\n      <td>14.0</td>\n      <td>7.5</td>\n      <td>1200</td>\n      <td>2000</td>\n      <td>5.0</td>\n      <td>6.0</td>\n      <td>0</td>\n      <td>0</td>\n      <td>78</td>\n    </tr>\n    <tr>\n      <th>7</th>\n      <td>Resin 7</td>\n      <td>0.1</td>\n      <td>300</td>\n      <td>80</td>\n      <td>1.11</td>\n      <td>10.0</td>\n      <td>29</td>\n      <td>20.0</td>\n      <td>30.0</td>\n      <td>1400</td>\n      <td>3000</td>\n      <td>4.0</td>\n      <td>3.8</td>\n      <td>80</td>\n      <td>0</td>\n      <td>0</td>\n    </tr>\n    <tr>\n      <th>8</th>\n      <td>Resin 8</td>\n      <td>0.0</td>\n      <td>225</td>\n      <td>65</td>\n      <td>0.98</td>\n      <td>0.2</td>\n      <td>38</td>\n      <td>35.0</td>\n      <td>40.0</td>\n      <td>7000</td>\n      <td>900</td>\n      <td>3.0</td>\n      <td>1.2</td>\n      <td>95</td>\n      <td>0</td>\n      <td>0</td>\n    </tr>\n    <tr>\n      <th>9</th>\n      <td>Resin 9</td>\n      <td>5.0</td>\n      <td>234</td>\n      <td>90</td>\n      <td>0.40</td>\n      <td>0.9</td>\n      <td>23</td>\n      <td>28.5</td>\n      <td>150.0</td>\n      <td>3000</td>\n      <td>2300</td>\n      <td>1.6</td>\n      <td>2.0</td>\n      <td>100</td>\n      <td>0</td>\n      <td>0</td>\n    </tr>\n    <tr>\n      <th>10</th>\n      <td>Resin 10</td>\n      <td>2.0</td>\n      <td>290</td>\n      <td>75</td>\n      <td>1.30</td>\n      <td>9.0</td>\n      <td>10</td>\n      <td>12.0</td>\n      <td>92.0</td>\n      <td>840</td>\n      <td>400</td>\n      <td>2.0</td>\n      <td>2.0</td>\n      <td>0</td>\n      <td>70</td>\n      <td>0</td>\n    </tr>\n  </tbody>\n</table>\n</div>"
     },
     "metadata": {},
     "execution_count": 3
    }
   ],
   "source": [
    "df = pd.read_csv(r'/Users/Michael/Desktop/GitHub/PolymerSelection/Data/PolymerData.csv')\n",
    "df = df.fillna(0)\n",
    "df"
   ]
  },
  {
   "cell_type": "code",
   "execution_count": 4,
   "metadata": {},
   "outputs": [
    {
     "output_type": "execute_result",
     "data": {
      "text/plain": [
       "         SKU   Tg\n",
       "1    Resin 1   90\n",
       "9    Resin 9   90\n",
       "7    Resin 7   80\n",
       "10  Resin 10   75\n",
       "6    Resin 6  130\n",
       "8    Resin 8   65"
      ],
      "text/html": "<div>\n<style scoped>\n    .dataframe tbody tr th:only-of-type {\n        vertical-align: middle;\n    }\n\n    .dataframe tbody tr th {\n        vertical-align: top;\n    }\n\n    .dataframe thead th {\n        text-align: right;\n    }\n</style>\n<table border=\"1\" class=\"dataframe\">\n  <thead>\n    <tr style=\"text-align: right;\">\n      <th></th>\n      <th>SKU</th>\n      <th>Tg</th>\n    </tr>\n  </thead>\n  <tbody>\n    <tr>\n      <th>1</th>\n      <td>Resin 1</td>\n      <td>90</td>\n    </tr>\n    <tr>\n      <th>9</th>\n      <td>Resin 9</td>\n      <td>90</td>\n    </tr>\n    <tr>\n      <th>7</th>\n      <td>Resin 7</td>\n      <td>80</td>\n    </tr>\n    <tr>\n      <th>10</th>\n      <td>Resin 10</td>\n      <td>75</td>\n    </tr>\n    <tr>\n      <th>6</th>\n      <td>Resin 6</td>\n      <td>130</td>\n    </tr>\n    <tr>\n      <th>8</th>\n      <td>Resin 8</td>\n      <td>65</td>\n    </tr>\n  </tbody>\n</table>\n</div>"
     },
     "metadata": {},
     "execution_count": 4
    }
   ],
   "source": [
    "Test = sf.OWStats(df, 6, 'Tg')\n",
    "Test"
   ]
  },
  {
   "cell_type": "code",
   "execution_count": null,
   "metadata": {},
   "outputs": [],
   "source": []
  }
 ]
}